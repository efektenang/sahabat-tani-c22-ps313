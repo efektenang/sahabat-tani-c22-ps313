{
  "cells": [
    {
      "cell_type": "code",
      "execution_count": null,
      "metadata": {
        "id": "PGXK0Nx_rq4q"
      },
      "outputs": [],
      "source": [
        "# Because we use dataset from kaggle, we need to upload our kaggle.json\n",
        "!mkdir -p ~/.kaggle\n",
        "!cp kaggle.json ~/.kaggle/\n",
        "!chmod 600 ~/.kaggle/kaggle.json"
      ]
    },
    {
      "cell_type": "code",
      "execution_count": null,
      "metadata": {
        "colab": {
          "base_uri": "https://localhost:8080/"
        },
        "id": "hBy_vkeLrx8u",
        "outputId": "3c269c13-7541-481e-aa70-ab8419b1e65a"
      },
      "outputs": [],
      "source": [
        "# Download dataset from kaggle\n",
        "!kaggle datasets download -d minhhuy2810/rice-diseases-image-dataset"
      ]
    },
    {
      "cell_type": "code",
      "execution_count": null,
      "metadata": {
        "id": "BBH65xU5sMrn"
      },
      "outputs": [],
      "source": [
        "import zipfile\n",
        "\n",
        "# Extract zip\n",
        "local_zip = '/content/rice-diseases-image-dataset.zip'\n",
        "zip_ref = zipfile.ZipFile(local_zip, 'r')\n",
        "zip_ref.extractall('/content/rice-diseases-image-dataset')\n",
        "zip_ref.close()"
      ]
    },
    {
      "cell_type": "markdown",
      "metadata": {
        "_uuid": "1020827e241ac87ffdf8e0f8762a6885bdc28fbc",
        "id": "MdgQXD1CrHGl"
      },
      "source": [
        "Import neccessary packages"
      ]
    },
    {
      "cell_type": "code",
      "execution_count": null,
      "metadata": {
        "_cell_guid": "b1076dfc-b9ad-4769-8c92-a6c4dae69d19",
        "_uuid": "8f2839f25d086af736a60e9eeb907d3b93b6e0e5",
        "execution": {
          "iopub.execute_input": "2022-06-05T06:47:14.992341Z",
          "iopub.status.busy": "2022-06-05T06:47:14.992015Z",
          "iopub.status.idle": "2022-06-05T06:47:20.380145Z",
          "shell.execute_reply": "2022-06-05T06:47:20.379408Z",
          "shell.execute_reply.started": "2022-06-05T06:47:14.992253Z"
        },
        "id": "akO9mjtOrHGm",
        "trusted": true
      },
      "outputs": [],
      "source": [
        "import os\n",
        "import tensorflow as tf\n",
        "from tensorflow.keras import Model\n",
        "from tensorflow.keras.models import Sequential\n",
        "from tensorflow.keras.layers import BatchNormalization\n",
        "from tensorflow.keras.layers import Conv2D\n",
        "from tensorflow.keras.layers import MaxPooling2D\n",
        "from tensorflow.keras.layers import Activation, Flatten, Dropout, Dense\n",
        "from tensorflow.keras import backend as K\n",
        "from tensorflow.keras.preprocessing.image import ImageDataGenerator\n",
        "from tensorflow.keras.optimizers import Adam\n",
        "import matplotlib.pyplot as plt"
      ]
    },
    {
      "cell_type": "code",
      "execution_count": null,
      "metadata": {
        "_uuid": "7c3354a78e21a1a62ad0c4689d0ab3238fb760d4",
        "execution": {
          "iopub.execute_input": "2022-06-05T06:47:20.381848Z",
          "iopub.status.busy": "2022-06-05T06:47:20.381617Z",
          "iopub.status.idle": "2022-06-05T06:47:20.386797Z",
          "shell.execute_reply": "2022-06-05T06:47:20.386181Z",
          "shell.execute_reply.started": "2022-06-05T06:47:20.381816Z"
        },
        "id": "HMZNZcSerHGn",
        "trusted": true
      },
      "outputs": [],
      "source": [
        "EPOCHS = 50\n",
        "LEARNING_RATE = 1e-3\n",
        "BS = 32\n",
        "DATA_DIR = '/content/rice-diseases-image-dataset'\n",
        "LABELLED_DIR = '/content/rice-diseases-image-dataset/LabelledRice/Labelled'\n",
        "TRAINING_DIR = '/content/rice-diseases-image-dataset/RiceDiseaseDataset/train'\n",
        "VALIDATION_DIR = '/content/rice-diseases-image-dataset/RiceDiseaseDataset/validation'\n",
        "width = 256\n",
        "height = 256\n",
        "depth = 3"
      ]
    },
    {
      "cell_type": "code",
      "execution_count": null,
      "metadata": {
        "execution": {
          "iopub.execute_input": "2022-06-05T06:47:20.388050Z",
          "iopub.status.busy": "2022-06-05T06:47:20.387744Z",
          "iopub.status.idle": "2022-06-05T06:47:24.191477Z",
          "shell.execute_reply": "2022-06-05T06:47:24.190674Z",
          "shell.execute_reply.started": "2022-06-05T06:47:20.388020Z"
        },
        "id": "4T5X-selrHGo",
        "trusted": true
      },
      "outputs": [],
      "source": [
        "for subdir, dirs, files in os.walk(DATA_DIR):\n",
        "    for file in files:\n",
        "        if file == '.DS_Store':\n",
        "            os.remove(os.path.join(subdir, file))"
      ]
    },
    {
      "cell_type": "code",
      "execution_count": null,
      "metadata": {
        "colab": {
          "base_uri": "https://localhost:8080/"
        },
        "execution": {
          "iopub.execute_input": "2022-06-05T06:47:24.621755Z",
          "iopub.status.busy": "2022-06-05T06:47:24.621300Z",
          "iopub.status.idle": "2022-06-05T06:47:24.626228Z",
          "shell.execute_reply": "2022-06-05T06:47:24.625550Z",
          "shell.execute_reply.started": "2022-06-05T06:47:24.621719Z"
        },
        "id": "0dyAUfdNrHGp",
        "outputId": "02a60b6e-4e60-4bb0-b316-858a0abf7b0b",
        "trusted": true
      },
      "outputs": [],
      "source": [
        "# From Separated Training & Validation Folder\n",
        "training_datagen = ImageDataGenerator(\n",
        "    rescale=1./255,\n",
        "    rotation_range=30,\n",
        "    width_shift_range=0.15,\n",
        "    height_shift_range=0.15,\n",
        "    shear_range=0.15,\n",
        "    zoom_range=0.2,\n",
        "    horizontal_flip=True,\n",
        "    fill_mode='nearest'\n",
        ")\n",
        "\n",
        "validation_datagen = ImageDataGenerator(\n",
        "    rescale=1./255,\n",
        ")\n",
        "\n",
        "train_generator = training_datagen.flow_from_directory(\n",
        "    TRAINING_DIR,\n",
        "    target_size=(width, height),\n",
        "    batch_size=BS,\n",
        "    class_mode='categorical'\n",
        ")\n",
        "\n",
        "validation_generator = validation_datagen.flow_from_directory(\n",
        "    VALIDATION_DIR,\n",
        "    target_size=(width, height),\n",
        "    batch_size=BS,\n",
        "    class_mode='categorical'\n",
        ")"
      ]
    },
    {
      "cell_type": "code",
      "execution_count": null,
      "metadata": {
        "_cell_guid": "79c7e3d0-c299-4dcb-8224-4455121ee9b0",
        "_uuid": "d629ff2d2480ee46fbb7e2d37f6b5fab8052498a",
        "execution": {
          "iopub.execute_input": "2022-06-05T06:47:24.628488Z",
          "iopub.status.busy": "2022-06-05T06:47:24.627851Z",
          "iopub.status.idle": "2022-06-05T06:47:24.640117Z",
          "shell.execute_reply": "2022-06-05T06:47:24.639391Z",
          "shell.execute_reply.started": "2022-06-05T06:47:24.628449Z"
        },
        "id": "72Ki2_5WrHGq",
        "trusted": true
      },
      "outputs": [],
      "source": [
        "input_shape = (height, width, depth)\n",
        "chan_dim = -1\n",
        "n_classes = len(os.listdir(TRAINING_DIR))\n",
        "if K.image_data_format() == 'channels_first':\n",
        "    input_shape = (depth, height, width)\n",
        "    chan_dim = 1"
      ]
    },
    {
      "cell_type": "code",
      "execution_count": null,
      "metadata": {
        "colab": {
          "base_uri": "https://localhost:8080/"
        },
        "execution": {
          "iopub.execute_input": "2022-06-05T06:47:27.591299Z",
          "iopub.status.busy": "2022-06-05T06:47:27.589963Z",
          "iopub.status.idle": "2022-06-05T06:47:27.595767Z",
          "shell.execute_reply": "2022-06-05T06:47:27.594786Z",
          "shell.execute_reply.started": "2022-06-05T06:47:27.591259Z"
        },
        "id": "FmTRPZiNrHGr",
        "outputId": "8f59a258-a862-4b2f-88ca-18f328b24b60",
        "trusted": true
      },
      "outputs": [],
      "source": [
        "# Transfer Learning\n",
        "pre_trained_model = tf.keras.applications.DenseNet201(\n",
        "    include_top=False,\n",
        "    weights='imagenet',\n",
        "    input_shape=input_shape,\n",
        "    pooling='avg',\n",
        ")\n",
        "pre_trained_model.trainable = False\n",
        "inputs = pre_trained_model.input\n",
        "x = Dense(128, activation='relu')(pre_trained_model.output)\n",
        "outputs = Dense(n_classes, activation='softmax')(x)\n",
        "model = Model(inputs=inputs, outputs=outputs)"
      ]
    },
    {
      "cell_type": "markdown",
      "metadata": {
        "_uuid": "53b13c03e4cea6dc2453a84e254b806ebeed2d99",
        "id": "3NR3o7o9rHGs"
      },
      "source": [
        "Model Summary"
      ]
    },
    {
      "cell_type": "code",
      "execution_count": null,
      "metadata": {
        "_uuid": "1e1523a834fbf872940171fbdefb3dcce2b5f31b",
        "colab": {
          "base_uri": "https://localhost:8080/"
        },
        "execution": {
          "iopub.execute_input": "2022-06-05T06:47:27.597614Z",
          "iopub.status.busy": "2022-06-05T06:47:27.597268Z",
          "iopub.status.idle": "2022-06-05T06:47:27.620145Z",
          "shell.execute_reply": "2022-06-05T06:47:27.619468Z",
          "shell.execute_reply.started": "2022-06-05T06:47:27.597574Z"
        },
        "id": "TpgI6GnurHGs",
        "outputId": "bfc352f7-9d29-461c-8ebd-f4bbb66b8bc8",
        "trusted": true
      },
      "outputs": [],
      "source": [
        "model.summary()"
      ]
    },
    {
      "cell_type": "code",
      "execution_count": null,
      "metadata": {
        "_uuid": "b21dffee32c325136b4ea23ac511049723f34a24",
        "execution": {
          "iopub.execute_input": "2022-06-05T06:47:27.623795Z",
          "iopub.status.busy": "2022-06-05T06:47:27.623597Z",
          "iopub.status.idle": "2022-06-05T06:47:27.636941Z",
          "shell.execute_reply": "2022-06-05T06:47:27.636205Z",
          "shell.execute_reply.started": "2022-06-05T06:47:27.623771Z"
        },
        "id": "Uc0bQP6IrHGs",
        "trusted": true
      },
      "outputs": [],
      "source": [
        "optimizer = Adam(learning_rate=LEARNING_RATE, decay=LEARNING_RATE / EPOCHS)\n",
        "model.compile(loss='categorical_crossentropy', optimizer=optimizer, metrics=['accuracy'])"
      ]
    },
    {
      "cell_type": "code",
      "execution_count": null,
      "metadata": {
        "execution": {
          "iopub.execute_input": "2022-06-05T06:47:27.639559Z",
          "iopub.status.busy": "2022-06-05T06:47:27.639181Z",
          "iopub.status.idle": "2022-06-05T06:47:27.646246Z",
          "shell.execute_reply": "2022-06-05T06:47:27.645417Z",
          "shell.execute_reply.started": "2022-06-05T06:47:27.639522Z"
        },
        "id": "ddkgnXbOrHGt",
        "trusted": true
      },
      "outputs": [],
      "source": [
        "from tensorflow.keras.callbacks import ModelCheckpoint\n",
        "\n",
        "BEST_MODEL = 'saved_model/best_model'\n",
        "BEST_MODEL_H5 = BEST_MODEL + '.h5'\n",
        "\n",
        "# Save the entire model as a SavedModel.\n",
        "checkpoint = ModelCheckpoint(BEST_MODEL, verbose=1, save_best_only=True, mode='auto')\n",
        "\n",
        "# Save the entire model to a HDF5 file.\n",
        "# The '.h5' extension indicates that the model should be saved to HDF5.\n",
        "checkpoint_h5 = ModelCheckpoint(BEST_MODEL_H5, verbose=1, save_best_only=True, mode='auto')"
      ]
    },
    {
      "cell_type": "code",
      "execution_count": null,
      "metadata": {
        "_uuid": "1a13efc5ded339fc3c0d9e61041e8ca555362db0",
        "colab": {
          "base_uri": "https://localhost:8080/"
        },
        "execution": {
          "iopub.execute_input": "2022-06-05T06:47:27.648032Z",
          "iopub.status.busy": "2022-06-05T06:47:27.647551Z"
        },
        "id": "C4w-B-fvrHGt",
        "outputId": "9805b819-588d-4b7a-adca-1e4464f7768d",
        "trusted": true
      },
      "outputs": [],
      "source": [
        "history = model.fit(\n",
        "    train_generator,\n",
        "    steps_per_epoch=train_generator.samples // BS,\n",
        "    validation_data=validation_generator,\n",
        "    epochs=EPOCHS,\n",
        "    verbose=1,\n",
        "    callbacks=[checkpoint_h5]\n",
        ")"
      ]
    },
    {
      "cell_type": "markdown",
      "metadata": {
        "_uuid": "1495fea08b37e4d4293f975ba30e6c1fc7a85ed9",
        "id": "DTZMzJIFrHGt"
      },
      "source": [
        "Plot the train and val curve"
      ]
    },
    {
      "cell_type": "code",
      "execution_count": null,
      "metadata": {
        "_uuid": "0af5e0f23657a4effc2d21cf8e840e81f42ec8e7",
        "id": "tec3UQvcrHGt",
        "trusted": true
      },
      "outputs": [],
      "source": [
        "acc = history.history['accuracy']\n",
        "val_acc = history.history['val_accuracy']\n",
        "loss = history.history['loss']\n",
        "val_loss = history.history['val_loss']\n",
        "epochs = range(1, len(acc) + 1)\n",
        "\n",
        "#Train and validation accuracy\n",
        "plt.plot(epochs, acc, 'b', label='Training accurarcy')\n",
        "plt.plot(epochs, val_acc, 'r', label='Validation accurarcy')\n",
        "plt.title('Training and Validation accurarcy')\n",
        "plt.legend()\n",
        "\n",
        "plt.figure()\n",
        "\n",
        "#Train and validation loss\n",
        "plt.plot(epochs, loss, 'b', label='Training loss')\n",
        "plt.plot(epochs, val_loss, 'r', label='Validation loss')\n",
        "plt.title('Training and Validation loss')\n",
        "plt.legend()\n",
        "plt.show()"
      ]
    },
    {
      "cell_type": "code",
      "execution_count": null,
      "metadata": {
        "_uuid": "bb44f3d0b7e2862bc7d1a032612ebfd48212c1fe",
        "id": "WBWu2uk_rHGu",
        "trusted": true
      },
      "outputs": [],
      "source": [
        "scores = model.evaluate(validation_generator)\n",
        "print(f\"Test Accuracy: {scores[1]*100}\")"
      ]
    },
    {
      "cell_type": "code",
      "execution_count": null,
      "metadata": {
        "id": "2qtmOUcnrHGu",
        "trusted": true
      },
      "outputs": [],
      "source": [
        "from tensorflow.keras.models import load_model\n",
        "new_model = load_model(BEST_MODEL_H5)\n",
        "scores = new_model.evaluate(validation_generator)\n",
        "print(f\"Best Accuracy: {scores[1]*100}\")"
      ]
    }
  ],
  "metadata": {
    "accelerator": "GPU",
    "colab": {
      "collapsed_sections": [],
      "name": "rice_disease.ipynb",
      "provenance": []
    },
    "kernelspec": {
      "display_name": "Python 3",
      "language": "python",
      "name": "python3"
    },
    "language_info": {
      "codemirror_mode": {
        "name": "ipython",
        "version": 3
      },
      "file_extension": ".py",
      "mimetype": "text/x-python",
      "name": "python",
      "nbconvert_exporter": "python",
      "pygments_lexer": "ipython3",
      "version": "3.7.12"
    }
  },
  "nbformat": 4,
  "nbformat_minor": 0
}
